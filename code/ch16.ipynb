{
  "nbformat": 4,
  "nbformat_minor": 0,
  "metadata": {
    "colab": {
      "name": "ch16.ipynb",
      "provenance": [],
      "collapsed_sections": [
        "iuRW45hpyRjB"
      ],
      "machine_shape": "hm"
    },
    "kernelspec": {
      "name": "python3",
      "display_name": "Python 3"
    },
    "accelerator": "GPU"
  },
  "cells": [
    {
      "cell_type": "markdown",
      "metadata": {
        "id": "C-Xsf1vwC5AA",
        "colab_type": "text"
      },
      "source": [
        "# Ch16"
      ]
    },
    {
      "cell_type": "markdown",
      "metadata": {
        "id": "uecY4MdyC7uL",
        "colab_type": "text"
      },
      "source": [
        "## NLP with RNN"
      ]
    },
    {
      "cell_type": "markdown",
      "metadata": {
        "id": "n_D9i-qwyGYq",
        "colab_type": "text"
      },
      "source": [
        "## Setting"
      ]
    },
    {
      "cell_type": "code",
      "metadata": {
        "id": "-ZWMRjVyC5Wc",
        "colab_type": "code",
        "colab": {
          "base_uri": "https://localhost:8080/",
          "height": 153
        },
        "outputId": "1202caea-0e9b-4503-d93a-6fda5b9e2479"
      },
      "source": [
        "# Python ≥3.5 is required\n",
        "import sys\n",
        "assert sys.version_info >= (3, 5)\n",
        "\n",
        "# Scikit-Learn ≥0.20 is required\n",
        "import sklearn\n",
        "assert sklearn.__version__ >= \"0.20\"\n",
        "\n",
        "try:\n",
        "    # %tensorflow_version only exists in Colab.\n",
        "    %tensorflow_version 2.x\n",
        "    !pip install -q -U tensorflow-addons\n",
        "    IS_COLAB = True\n",
        "except Exception:\n",
        "    IS_COLAB = False\n",
        "\n",
        "# TensorFlow ≥2.0 is required\n",
        "import tensorflow as tf\n",
        "from tensorflow import keras\n",
        "assert tf.__version__ >= \"2.0\"\n",
        "\n",
        "if not tf.config.list_physical_devices('GPU'):\n",
        "    print(\"No GPU was detected. LSTMs and CNNs can be very slow without a GPU.\")\n",
        "    if IS_COLAB:\n",
        "        print(\"Go to Runtime > Change runtime and select a GPU hardware accelerator.\")\n",
        "\n",
        "# Common imports\n",
        "import numpy as np\n",
        "import os\n",
        "\n",
        "# to make this notebook's output stable across runs\n",
        "np.random.seed(42)\n",
        "tf.random.set_seed(42)\n",
        "\n",
        "# To plot pretty figures\n",
        "%matplotlib inline\n",
        "import matplotlib as mpl\n",
        "import matplotlib.pyplot as plt"
      ],
      "execution_count": 2,
      "outputs": [
        {
          "output_type": "stream",
          "text": [
            "TensorFlow 2.x selected.\n",
            "\u001b[K     |████████████████████████████████| 1.0MB 2.8MB/s \n",
            "\u001b[31mERROR: tensorflow-federated 0.11.0 requires enum34~=1.1, which is not installed.\u001b[0m\n",
            "\u001b[31mERROR: tensorflow-federated 0.11.0 has requirement attrs~=18.2, but you'll have attrs 19.3.0 which is incompatible.\u001b[0m\n",
            "\u001b[31mERROR: tensorflow-federated 0.11.0 has requirement cachetools~=3.1.1, but you'll have cachetools 4.0.0 which is incompatible.\u001b[0m\n",
            "\u001b[31mERROR: tensorflow-federated 0.11.0 has requirement grpcio~=1.24.3, but you'll have grpcio 1.27.2 which is incompatible.\u001b[0m\n",
            "\u001b[31mERROR: tensorflow-federated 0.11.0 has requirement tensorflow~=2.0.0, but you'll have tensorflow 2.1.0 which is incompatible.\u001b[0m\n",
            "\u001b[31mERROR: tensorflow-federated 0.11.0 has requirement tensorflow-addons~=0.6.0, but you'll have tensorflow-addons 0.8.3 which is incompatible.\u001b[0m\n",
            "\u001b[?25h"
          ],
          "name": "stdout"
        }
      ]
    },
    {
      "cell_type": "markdown",
      "metadata": {
        "id": "icMY1PVZyJrA",
        "colab_type": "text"
      },
      "source": [
        "## Data Download"
      ]
    },
    {
      "cell_type": "code",
      "metadata": {
        "id": "X4rA8YSjRBr_",
        "colab_type": "code",
        "colab": {}
      },
      "source": [
        "shakespeare_url = \"https://raw.githubusercontent.com/karpathy/char-rnn/master/data/tinyshakespeare/input.txt\"\n",
        "filepath = keras.utils.get_file(\"shakespeare.txt\", shakespeare_url)\n",
        "with open(filepath) as f:\n",
        "    shakespeare_text = f.read()"
      ],
      "execution_count": 0,
      "outputs": []
    },
    {
      "cell_type": "markdown",
      "metadata": {
        "id": "iuRW45hpyRjB",
        "colab_type": "text"
      },
      "source": [
        "## Tokenizing"
      ]
    },
    {
      "cell_type": "code",
      "metadata": {
        "id": "ruPM6tsmRM9m",
        "colab_type": "code",
        "colab": {}
      },
      "source": [
        "tokenizer = keras.preprocessing.text.Tokenizer(char_level=True) # toknizing을 할 수 있는 tokenizer을 불러온다\n",
        "tokenizer.fit_on_texts(shakespeare_text) # 위 텍스트 데이터를 tokenizing할 수있도록 tokenizer를 fitting해준다."
      ],
      "execution_count": 0,
      "outputs": []
    },
    {
      "cell_type": "code",
      "metadata": {
        "id": "iTB2VFISRT8X",
        "colab_type": "code",
        "colab": {
          "base_uri": "https://localhost:8080/",
          "height": 34
        },
        "outputId": "ec4b5345-7fbe-4128-b323-db8db9e7d997"
      },
      "source": [
        "tokenizer.texts_to_sequences([\"First\"]) # 이런식으로 \"First\"는 tokenizing되면 다음과 같은 인덱스로 표현됨"
      ],
      "execution_count": 4,
      "outputs": [
        {
          "output_type": "execute_result",
          "data": {
            "text/plain": [
              "[[20, 6, 9, 8, 3]]"
            ]
          },
          "metadata": {
            "tags": []
          },
          "execution_count": 4
        }
      ]
    },
    {
      "cell_type": "code",
      "metadata": {
        "id": "sfD4bKIi1GYB",
        "colab_type": "code",
        "colab": {
          "base_uri": "https://localhost:8080/",
          "height": 680
        },
        "outputId": "6a9b719f-f37b-4a1f-f536-78ea42b92742"
      },
      "source": [
        "tokenizer.word_index"
      ],
      "execution_count": 5,
      "outputs": [
        {
          "output_type": "execute_result",
          "data": {
            "text/plain": [
              "{'\\n': 11,\n",
              " ' ': 1,\n",
              " '!': 31,\n",
              " '$': 39,\n",
              " '&': 38,\n",
              " \"'\": 28,\n",
              " ',': 18,\n",
              " '-': 32,\n",
              " '.': 27,\n",
              " '3': 37,\n",
              " ':': 24,\n",
              " ';': 29,\n",
              " '?': 30,\n",
              " 'a': 5,\n",
              " 'b': 22,\n",
              " 'c': 19,\n",
              " 'd': 13,\n",
              " 'e': 2,\n",
              " 'f': 20,\n",
              " 'g': 21,\n",
              " 'h': 7,\n",
              " 'i': 6,\n",
              " 'j': 33,\n",
              " 'k': 25,\n",
              " 'l': 12,\n",
              " 'm': 15,\n",
              " 'n': 10,\n",
              " 'o': 4,\n",
              " 'p': 23,\n",
              " 'q': 34,\n",
              " 'r': 9,\n",
              " 's': 8,\n",
              " 't': 3,\n",
              " 'u': 14,\n",
              " 'v': 26,\n",
              " 'w': 17,\n",
              " 'x': 35,\n",
              " 'y': 16,\n",
              " 'z': 36}"
            ]
          },
          "metadata": {
            "tags": []
          },
          "execution_count": 5
        }
      ]
    },
    {
      "cell_type": "code",
      "metadata": {
        "id": "QUQoUJZGRnfm",
        "colab_type": "code",
        "colab": {}
      },
      "source": [
        "max_id = len(tokenizer.word_index) # number of distinct characters\n",
        "dataset_size = tokenizer.document_count # total number of characters"
      ],
      "execution_count": 0,
      "outputs": []
    },
    {
      "cell_type": "code",
      "metadata": {
        "id": "OpT3s6qsR3Vl",
        "colab_type": "code",
        "colab": {
          "base_uri": "https://localhost:8080/",
          "height": 34
        },
        "outputId": "2ec6a7f2-9bab-4a4d-eacf-9cf9f96f757d"
      },
      "source": [
        "max_id # 위 텍스트를 구성하는 유니크한 글자들의 종류는 39가지다"
      ],
      "execution_count": 7,
      "outputs": [
        {
          "output_type": "execute_result",
          "data": {
            "text/plain": [
              "39"
            ]
          },
          "metadata": {
            "tags": []
          },
          "execution_count": 7
        }
      ]
    },
    {
      "cell_type": "code",
      "metadata": {
        "id": "mshuttjxR4Es",
        "colab_type": "code",
        "colab": {
          "base_uri": "https://localhost:8080/",
          "height": 34
        },
        "outputId": "92687d35-944b-4825-9cf5-7f9ad9ffff0e"
      },
      "source": [
        "dataset_size # 위 텍스트를 구성하는 모든 글자의 총 개수"
      ],
      "execution_count": 8,
      "outputs": [
        {
          "output_type": "execute_result",
          "data": {
            "text/plain": [
              "1115394"
            ]
          },
          "metadata": {
            "tags": []
          },
          "execution_count": 8
        }
      ]
    },
    {
      "cell_type": "code",
      "metadata": {
        "id": "FmVTxfDqSHbK",
        "colab_type": "code",
        "colab": {
          "base_uri": "https://localhost:8080/",
          "height": 119
        },
        "outputId": "971b6f31-2d85-4738-e7f4-78a3983ee78e"
      },
      "source": [
        "encoded = np.array(tokenizer.texts_to_sequences([shakespeare_text])) - 1 #위 텍스트를 전부 tokenizing 한 후 np array에 담아보자, -1을 함으로써 0~38까지 총 39가지\n",
        "print(encoded)\n",
        "print(encoded.shape)\n",
        "encoded = encoded[0] # 이걸로 사용\n",
        "print(encoded)\n",
        "print(encoded.shape)\n",
        "train_size = dataset_size * 40 // 100 # 20%를 트레이닝 셋으로 사용하자\n",
        "train = encoded[:train_size] # 엄청나게 많은 글자가 연속된 하나의 텍스트임\n",
        "# --> 여러개의 데이터로 적절히 잘라서 구성할 필요가 있음(rolling window방식으로 데이터를 구성해야 함)\n",
        "print('len of train set')\n",
        "print(train.shape)"
      ],
      "execution_count": 9,
      "outputs": [
        {
          "output_type": "stream",
          "text": [
            "[[19  5  8 ... 20 26 10]]\n",
            "(1, 1115394)\n",
            "[19  5  8 ... 20 26 10]\n",
            "(1115394,)\n",
            "len of train set\n",
            "(446157,)\n"
          ],
          "name": "stdout"
        }
      ]
    },
    {
      "cell_type": "markdown",
      "metadata": {
        "id": "XdocJ40DyYrl",
        "colab_type": "text"
      },
      "source": [
        "## long single text data to short multiple data for rolling window"
      ]
    },
    {
      "cell_type": "code",
      "metadata": {
        "id": "K0bvESWBuuar",
        "colab_type": "code",
        "colab": {}
      },
      "source": [
        "def window(data, win_len): # 다음 101번째 글자를 예측해 보겠다.\n",
        "  _x = []\n",
        "  _y = []\n",
        "  for idx in range(len(data) - win_len - 1 ):\n",
        "    _x.append(data[idx:idx + win_len]) # 0:0+100 --> 0~99번째, 1:1+100 --> 1~100번째, ...\n",
        "    _y.append(data[idx+win_len]) # 0+100 = 100번째, 1+100 = 101번째, ...\n",
        "\n",
        "  return np.array(_x), np.array(_y)\n",
        "\n",
        "\n",
        "win_len = 100 # 100개의 step을 input으로 넣는다\n",
        "X_train, y_train = window(train, win_len)"
      ],
      "execution_count": 0,
      "outputs": []
    },
    {
      "cell_type": "code",
      "metadata": {
        "id": "3cqT7Z965wrn",
        "colab_type": "code",
        "colab": {
          "base_uri": "https://localhost:8080/",
          "height": 119
        },
        "outputId": "4f4994ba-2856-4cda-9e2c-3c03ec49b76e"
      },
      "source": [
        "train[0:102]"
      ],
      "execution_count": 11,
      "outputs": [
        {
          "output_type": "execute_result",
          "data": {
            "text/plain": [
              "array([19,  5,  8,  7,  2,  0, 18,  5,  2,  5, 35,  1,  9, 23, 10, 21,  1,\n",
              "       19,  3,  8,  1,  0, 16,  1,  0, 22,  8,  3, 18,  1,  1, 12,  0,  4,\n",
              "        9, 15,  0, 19, 13,  8,  2,  6,  1,  8, 17,  0,  6,  1,  4,  8,  0,\n",
              "       14,  1,  0,  7, 22,  1,  4, 24, 26, 10, 10,  4, 11, 11, 23, 10,  7,\n",
              "       22,  1,  4, 24, 17,  0,  7, 22,  1,  4, 24, 26, 10, 10, 19,  5,  8,\n",
              "        7,  2,  0, 18,  5,  2,  5, 35,  1,  9, 23, 10, 15,  3, 13,  0,  4])"
            ]
          },
          "metadata": {
            "tags": []
          },
          "execution_count": 11
        }
      ]
    },
    {
      "cell_type": "code",
      "metadata": {
        "id": "-lktenEZ3ymW",
        "colab_type": "code",
        "colab": {
          "base_uri": "https://localhost:8080/",
          "height": 119
        },
        "outputId": "b780ae44-9761-413c-88b6-7e8df5d3a76f"
      },
      "source": [
        "X_train[0]"
      ],
      "execution_count": 12,
      "outputs": [
        {
          "output_type": "execute_result",
          "data": {
            "text/plain": [
              "array([19,  5,  8,  7,  2,  0, 18,  5,  2,  5, 35,  1,  9, 23, 10, 21,  1,\n",
              "       19,  3,  8,  1,  0, 16,  1,  0, 22,  8,  3, 18,  1,  1, 12,  0,  4,\n",
              "        9, 15,  0, 19, 13,  8,  2,  6,  1,  8, 17,  0,  6,  1,  4,  8,  0,\n",
              "       14,  1,  0,  7, 22,  1,  4, 24, 26, 10, 10,  4, 11, 11, 23, 10,  7,\n",
              "       22,  1,  4, 24, 17,  0,  7, 22,  1,  4, 24, 26, 10, 10, 19,  5,  8,\n",
              "        7,  2,  0, 18,  5,  2,  5, 35,  1,  9, 23, 10, 15,  3, 13])"
            ]
          },
          "metadata": {
            "tags": []
          },
          "execution_count": 12
        }
      ]
    },
    {
      "cell_type": "code",
      "metadata": {
        "id": "tsQTY_I54a_m",
        "colab_type": "code",
        "colab": {
          "base_uri": "https://localhost:8080/",
          "height": 34
        },
        "outputId": "cfb6d9d6-7f21-4e96-f758-dbe8997a880a"
      },
      "source": [
        "y_train[0]"
      ],
      "execution_count": 13,
      "outputs": [
        {
          "output_type": "execute_result",
          "data": {
            "text/plain": [
              "0"
            ]
          },
          "metadata": {
            "tags": []
          },
          "execution_count": 13
        }
      ]
    },
    {
      "cell_type": "code",
      "metadata": {
        "id": "cxRgENoc5x6q",
        "colab_type": "code",
        "colab": {
          "base_uri": "https://localhost:8080/",
          "height": 119
        },
        "outputId": "7fb0f6a3-2128-4634-c41f-bd4d62470bbe"
      },
      "source": [
        "X_train[1]"
      ],
      "execution_count": 14,
      "outputs": [
        {
          "output_type": "execute_result",
          "data": {
            "text/plain": [
              "array([ 5,  8,  7,  2,  0, 18,  5,  2,  5, 35,  1,  9, 23, 10, 21,  1, 19,\n",
              "        3,  8,  1,  0, 16,  1,  0, 22,  8,  3, 18,  1,  1, 12,  0,  4,  9,\n",
              "       15,  0, 19, 13,  8,  2,  6,  1,  8, 17,  0,  6,  1,  4,  8,  0, 14,\n",
              "        1,  0,  7, 22,  1,  4, 24, 26, 10, 10,  4, 11, 11, 23, 10,  7, 22,\n",
              "        1,  4, 24, 17,  0,  7, 22,  1,  4, 24, 26, 10, 10, 19,  5,  8,  7,\n",
              "        2,  0, 18,  5,  2,  5, 35,  1,  9, 23, 10, 15,  3, 13,  0])"
            ]
          },
          "metadata": {
            "tags": []
          },
          "execution_count": 14
        }
      ]
    },
    {
      "cell_type": "code",
      "metadata": {
        "id": "dga3C-jR5y8v",
        "colab_type": "code",
        "colab": {
          "base_uri": "https://localhost:8080/",
          "height": 34
        },
        "outputId": "cc7050e0-248a-4a45-a8d7-71c54d008c19"
      },
      "source": [
        "y_train[1]"
      ],
      "execution_count": 15,
      "outputs": [
        {
          "output_type": "execute_result",
          "data": {
            "text/plain": [
              "4"
            ]
          },
          "metadata": {
            "tags": []
          },
          "execution_count": 15
        }
      ]
    },
    {
      "cell_type": "markdown",
      "metadata": {
        "id": "GVRp2H4NypKt",
        "colab_type": "text"
      },
      "source": [
        "## Data Shuffling"
      ]
    },
    {
      "cell_type": "code",
      "metadata": {
        "id": "esLAgmEh8vBR",
        "colab_type": "code",
        "colab": {}
      },
      "source": [
        "idx = np.random.choice(5,5,replace=False)"
      ],
      "execution_count": 0,
      "outputs": []
    },
    {
      "cell_type": "code",
      "metadata": {
        "id": "LMWJbOVH9RrB",
        "colab_type": "code",
        "colab": {}
      },
      "source": [
        "a = np.array(['a', 'b', 'c', 'd', 'e'])"
      ],
      "execution_count": 0,
      "outputs": []
    },
    {
      "cell_type": "code",
      "metadata": {
        "id": "rz6YyjQS9bM8",
        "colab_type": "code",
        "colab": {
          "base_uri": "https://localhost:8080/",
          "height": 34
        },
        "outputId": "b343c9b8-5c4e-43de-9134-0d7b741e139c"
      },
      "source": [
        "idx"
      ],
      "execution_count": 18,
      "outputs": [
        {
          "output_type": "execute_result",
          "data": {
            "text/plain": [
              "array([1, 4, 2, 0, 3])"
            ]
          },
          "metadata": {
            "tags": []
          },
          "execution_count": 18
        }
      ]
    },
    {
      "cell_type": "code",
      "metadata": {
        "id": "siTOZXFN9YHW",
        "colab_type": "code",
        "colab": {
          "base_uri": "https://localhost:8080/",
          "height": 34
        },
        "outputId": "4c53bde3-ef19-443f-d59b-e412aab4a006"
      },
      "source": [
        "a[idx]"
      ],
      "execution_count": 19,
      "outputs": [
        {
          "output_type": "execute_result",
          "data": {
            "text/plain": [
              "array(['b', 'e', 'c', 'a', 'd'], dtype='<U1')"
            ]
          },
          "metadata": {
            "tags": []
          },
          "execution_count": 19
        }
      ]
    },
    {
      "cell_type": "code",
      "metadata": {
        "id": "OGLaFLm9usHM",
        "colab_type": "code",
        "colab": {
          "base_uri": "https://localhost:8080/",
          "height": 85
        },
        "outputId": "fd929635-ed90-4108-c894-6bf44d97c46f"
      },
      "source": [
        "def shuffle(X_train, y_train):\n",
        "  size = X_train.shape[0]\n",
        "  rand_idx = np.random.choice(size, size,replace=False) # size-1 까지의 index를(비복원 추출 = index는 중복되면 안됨) size만큼의 길이를 갖는 array를 뱉어냄\n",
        "  print(rand_idx)\n",
        "  print(rand_idx.shape)\n",
        "  return X_train[rand_idx], y_train[rand_idx], rand_idx\n",
        "\n",
        "X_train_shuffled, y_train_shuffled, rand_idx = shuffle(X_train, y_train)\n",
        "print(X_train_shuffled.shape)\n",
        "print(y_train_shuffled.shape)"
      ],
      "execution_count": 20,
      "outputs": [
        {
          "output_type": "stream",
          "text": [
            "[383918 339071  49548 ... 207892 110268 119879]\n",
            "(446056,)\n",
            "(446056, 100)\n",
            "(446056,)\n"
          ],
          "name": "stdout"
        }
      ]
    },
    {
      "cell_type": "code",
      "metadata": {
        "id": "m9INXGxD8BSH",
        "colab_type": "code",
        "colab": {
          "base_uri": "https://localhost:8080/",
          "height": 119
        },
        "outputId": "e492482b-ebef-4f92-946d-102cd1f4c7d6"
      },
      "source": [
        "train[rand_idx[0]:rand_idx[0]+win_len]"
      ],
      "execution_count": 21,
      "outputs": [
        {
          "output_type": "execute_result",
          "data": {
            "text/plain": [
              "array([20,  7, 17,  0,  1,  4,  7,  5, 11, 15,  0, 16,  3,  9,  0,  2,  3,\n",
              "        0, 19,  4, 16,  9,  0,  3,  9,  0,  4,  9, 15,  0, 14,  4,  9, 30,\n",
              "       10,  7,  9,  4, 24,  1,  7, 17,  0,  5,  9,  0, 14, 15,  0,  6,  1,\n",
              "        4,  8,  2, 31, 21, 11,  3,  3, 12,  0, 16,  4,  8, 14, 27, 12, 17,\n",
              "        0,  2,  6,  4,  2,  0,  7,  2,  5,  9, 20,  0, 14, 15,  0,  6,  1,\n",
              "        4,  8,  2, 30, 10,  2,  6,  8,  1,  1,  0, 32, 13, 12,  4])"
            ]
          },
          "metadata": {
            "tags": []
          },
          "execution_count": 21
        }
      ]
    },
    {
      "cell_type": "code",
      "metadata": {
        "id": "JO3s6fay9r6d",
        "colab_type": "code",
        "colab": {
          "base_uri": "https://localhost:8080/",
          "height": 34
        },
        "outputId": "da73f7d7-532d-4684-a6ec-e8a249db4897"
      },
      "source": [
        "train[rand_idx[0]+win_len]"
      ],
      "execution_count": 22,
      "outputs": [
        {
          "output_type": "execute_result",
          "data": {
            "text/plain": [
              "7"
            ]
          },
          "metadata": {
            "tags": []
          },
          "execution_count": 22
        }
      ]
    },
    {
      "cell_type": "code",
      "metadata": {
        "id": "hif7kcw1AVXA",
        "colab_type": "code",
        "colab": {
          "base_uri": "https://localhost:8080/",
          "height": 119
        },
        "outputId": "ef40e788-836a-40aa-d8df-387c4e50fcec"
      },
      "source": [
        "X_train[rand_idx[0]]"
      ],
      "execution_count": 23,
      "outputs": [
        {
          "output_type": "execute_result",
          "data": {
            "text/plain": [
              "array([20,  7, 17,  0,  1,  4,  7,  5, 11, 15,  0, 16,  3,  9,  0,  2,  3,\n",
              "        0, 19,  4, 16,  9,  0,  3,  9,  0,  4,  9, 15,  0, 14,  4,  9, 30,\n",
              "       10,  7,  9,  4, 24,  1,  7, 17,  0,  5,  9,  0, 14, 15,  0,  6,  1,\n",
              "        4,  8,  2, 31, 21, 11,  3,  3, 12,  0, 16,  4,  8, 14, 27, 12, 17,\n",
              "        0,  2,  6,  4,  2,  0,  7,  2,  5,  9, 20,  0, 14, 15,  0,  6,  1,\n",
              "        4,  8,  2, 30, 10,  2,  6,  8,  1,  1,  0, 32, 13, 12,  4])"
            ]
          },
          "metadata": {
            "tags": []
          },
          "execution_count": 23
        }
      ]
    },
    {
      "cell_type": "code",
      "metadata": {
        "id": "omIST4U88OMF",
        "colab_type": "code",
        "colab": {
          "base_uri": "https://localhost:8080/",
          "height": 119
        },
        "outputId": "7c2f1cd9-eb08-48ab-e0b0-26367d9f51cd"
      },
      "source": [
        "X_train_shuffled[0]"
      ],
      "execution_count": 24,
      "outputs": [
        {
          "output_type": "execute_result",
          "data": {
            "text/plain": [
              "array([20,  7, 17,  0,  1,  4,  7,  5, 11, 15,  0, 16,  3,  9,  0,  2,  3,\n",
              "        0, 19,  4, 16,  9,  0,  3,  9,  0,  4,  9, 15,  0, 14,  4,  9, 30,\n",
              "       10,  7,  9,  4, 24,  1,  7, 17,  0,  5,  9,  0, 14, 15,  0,  6,  1,\n",
              "        4,  8,  2, 31, 21, 11,  3,  3, 12,  0, 16,  4,  8, 14, 27, 12, 17,\n",
              "        0,  2,  6,  4,  2,  0,  7,  2,  5,  9, 20,  0, 14, 15,  0,  6,  1,\n",
              "        4,  8,  2, 30, 10,  2,  6,  8,  1,  1,  0, 32, 13, 12,  4])"
            ]
          },
          "metadata": {
            "tags": []
          },
          "execution_count": 24
        }
      ]
    },
    {
      "cell_type": "code",
      "metadata": {
        "id": "su77uDUqAZ7c",
        "colab_type": "code",
        "colab": {
          "base_uri": "https://localhost:8080/",
          "height": 34
        },
        "outputId": "4c59ffa0-2868-4d21-b727-957be7f2fae9"
      },
      "source": [
        "y_train[rand_idx[0]]"
      ],
      "execution_count": 25,
      "outputs": [
        {
          "output_type": "execute_result",
          "data": {
            "text/plain": [
              "7"
            ]
          },
          "metadata": {
            "tags": []
          },
          "execution_count": 25
        }
      ]
    },
    {
      "cell_type": "code",
      "metadata": {
        "id": "YKnmfmlb9tLe",
        "colab_type": "code",
        "colab": {
          "base_uri": "https://localhost:8080/",
          "height": 34
        },
        "outputId": "7b531c41-3e43-413d-cd66-5eb366531783"
      },
      "source": [
        "y_train_shuffled[0]"
      ],
      "execution_count": 26,
      "outputs": [
        {
          "output_type": "execute_result",
          "data": {
            "text/plain": [
              "7"
            ]
          },
          "metadata": {
            "tags": []
          },
          "execution_count": 26
        }
      ]
    },
    {
      "cell_type": "markdown",
      "metadata": {
        "id": "ngyhDmT3yuYj",
        "colab_type": "text"
      },
      "source": [
        "## one hot encoding"
      ]
    },
    {
      "cell_type": "code",
      "metadata": {
        "id": "GYmQwl4RAn9E",
        "colab_type": "code",
        "colab": {}
      },
      "source": [
        "X_train_one_hot = tf.one_hot(X_train, depth=max_id)\n",
        "y_train_one_hot = tf.one_hot(y_train, depth=max_id)"
      ],
      "execution_count": 0,
      "outputs": []
    },
    {
      "cell_type": "code",
      "metadata": {
        "id": "1_HTUo7vA6pI",
        "colab_type": "code",
        "colab": {
          "base_uri": "https://localhost:8080/",
          "height": 867
        },
        "outputId": "865bcaee-06e2-4fff-89f9-c4a953f24cb7"
      },
      "source": [
        "X_train_one_hot"
      ],
      "execution_count": 28,
      "outputs": [
        {
          "output_type": "execute_result",
          "data": {
            "text/plain": [
              "<tf.Tensor: shape=(446056, 100, 39), dtype=float32, numpy=\n",
              "array([[[0., 0., 0., ..., 0., 0., 0.],\n",
              "        [0., 0., 0., ..., 0., 0., 0.],\n",
              "        [0., 0., 0., ..., 0., 0., 0.],\n",
              "        ...,\n",
              "        [0., 0., 0., ..., 0., 0., 0.],\n",
              "        [0., 0., 0., ..., 0., 0., 0.],\n",
              "        [0., 0., 0., ..., 0., 0., 0.]],\n",
              "\n",
              "       [[0., 0., 0., ..., 0., 0., 0.],\n",
              "        [0., 0., 0., ..., 0., 0., 0.],\n",
              "        [0., 0., 0., ..., 0., 0., 0.],\n",
              "        ...,\n",
              "        [0., 0., 0., ..., 0., 0., 0.],\n",
              "        [0., 0., 0., ..., 0., 0., 0.],\n",
              "        [1., 0., 0., ..., 0., 0., 0.]],\n",
              "\n",
              "       [[0., 0., 0., ..., 0., 0., 0.],\n",
              "        [0., 0., 0., ..., 0., 0., 0.],\n",
              "        [0., 0., 1., ..., 0., 0., 0.],\n",
              "        ...,\n",
              "        [0., 0., 0., ..., 0., 0., 0.],\n",
              "        [1., 0., 0., ..., 0., 0., 0.],\n",
              "        [0., 0., 0., ..., 0., 0., 0.]],\n",
              "\n",
              "       ...,\n",
              "\n",
              "       [[0., 0., 1., ..., 0., 0., 0.],\n",
              "        [0., 0., 0., ..., 0., 0., 0.],\n",
              "        [0., 0., 0., ..., 0., 0., 0.],\n",
              "        ...,\n",
              "        [0., 0., 0., ..., 0., 0., 0.],\n",
              "        [1., 0., 0., ..., 0., 0., 0.],\n",
              "        [0., 0., 0., ..., 0., 0., 0.]],\n",
              "\n",
              "       [[0., 0., 0., ..., 0., 0., 0.],\n",
              "        [0., 0., 0., ..., 0., 0., 0.],\n",
              "        [0., 0., 0., ..., 0., 0., 0.],\n",
              "        ...,\n",
              "        [1., 0., 0., ..., 0., 0., 0.],\n",
              "        [0., 0., 0., ..., 0., 0., 0.],\n",
              "        [0., 0., 0., ..., 0., 0., 0.]],\n",
              "\n",
              "       [[0., 0., 0., ..., 0., 0., 0.],\n",
              "        [0., 0., 0., ..., 0., 0., 0.],\n",
              "        [0., 0., 0., ..., 0., 0., 0.],\n",
              "        ...,\n",
              "        [0., 0., 0., ..., 0., 0., 0.],\n",
              "        [0., 0., 0., ..., 0., 0., 0.],\n",
              "        [0., 0., 0., ..., 0., 0., 0.]]], dtype=float32)>"
            ]
          },
          "metadata": {
            "tags": []
          },
          "execution_count": 28
        }
      ]
    },
    {
      "cell_type": "code",
      "metadata": {
        "id": "PzWADRnSp5WZ",
        "colab_type": "code",
        "colab": {
          "base_uri": "https://localhost:8080/",
          "height": 153
        },
        "outputId": "2b06ba14-5a46-4956-dc3e-932f51551901"
      },
      "source": [
        "y_train_one_hot"
      ],
      "execution_count": 29,
      "outputs": [
        {
          "output_type": "execute_result",
          "data": {
            "text/plain": [
              "<tf.Tensor: shape=(446056, 39), dtype=float32, numpy=\n",
              "array([[1., 0., 0., ..., 0., 0., 0.],\n",
              "       [0., 0., 0., ..., 0., 0., 0.],\n",
              "       [0., 0., 0., ..., 0., 0., 0.],\n",
              "       ...,\n",
              "       [0., 0., 0., ..., 0., 0., 0.],\n",
              "       [0., 0., 0., ..., 0., 0., 0.],\n",
              "       [0., 0., 0., ..., 0., 0., 0.]], dtype=float32)>"
            ]
          },
          "metadata": {
            "tags": []
          },
          "execution_count": 29
        }
      ]
    },
    {
      "cell_type": "markdown",
      "metadata": {
        "id": "R39ljQ2WfFL9",
        "colab_type": "text"
      },
      "source": [
        "## training"
      ]
    },
    {
      "cell_type": "code",
      "metadata": {
        "id": "wmmrpwtWSh4p",
        "colab_type": "code",
        "colab": {
          "base_uri": "https://localhost:8080/",
          "height": 422
        },
        "outputId": "5de20d53-d4a7-4e8a-e0c0-547cfb483aa9"
      },
      "source": [
        "\n",
        "model = keras.models.Sequential([\n",
        "    keras.layers.GRU(128, return_sequences=True, input_shape=[None, max_id]),\n",
        "    keras.layers.GRU(128),\n",
        "    keras.layers.Dense(max_id, activation=\"softmax\"),\n",
        "])\n",
        "keras.utils.plot_model(model, show_shapes=True)"
      ],
      "execution_count": 30,
      "outputs": [
        {
          "output_type": "execute_result",
          "data": {
            "image/png": "[encoded data removed]",
            "text/plain": [
              "<IPython.core.display.Image object>"
            ]
          },
          "metadata": {
            "tags": []
          },
          "execution_count": 30
        }
      ]
    },
    {
      "cell_type": "code",
      "metadata": {
        "id": "c0Zp8Nn4DDwP",
        "colab_type": "code",
        "colab": {
          "base_uri": "https://localhost:8080/",
          "height": 714
        },
        "outputId": "2bc2cca6-3643-4d3c-f581-438c758d18bd"
      },
      "source": [
        "batch_size = 1024\n",
        "model.compile(loss=\"categorical_crossentropy\", optimizer=\"adam\")\n",
        "history = model.fit(X_train_one_hot, y_train_one_hot, batch_size=batch_size, epochs=20)"
      ],
      "execution_count": 31,
      "outputs": [
        {
          "output_type": "stream",
          "text": [
            "Train on 446056 samples\n",
            "Epoch 1/20\n",
            "446056/446056 [==============================] - 63s 141us/sample - loss: 2.4078\n",
            "Epoch 2/20\n",
            "446056/446056 [==============================] - 60s 134us/sample - loss: 1.9110\n",
            "Epoch 3/20\n",
            "446056/446056 [==============================] - 59s 133us/sample - loss: 1.7136\n",
            "Epoch 4/20\n",
            "446056/446056 [==============================] - 60s 133us/sample - loss: 1.6042\n",
            "Epoch 5/20\n",
            "446056/446056 [==============================] - 60s 133us/sample - loss: 1.5365\n",
            "Epoch 6/20\n",
            "446056/446056 [==============================] - 59s 133us/sample - loss: 1.4883\n",
            "Epoch 7/20\n",
            "446056/446056 [==============================] - 60s 134us/sample - loss: 1.4512\n",
            "Epoch 8/20\n",
            "446056/446056 [==============================] - 60s 134us/sample - loss: 1.4221\n",
            "Epoch 9/20\n",
            "446056/446056 [==============================] - 59s 133us/sample - loss: 1.3967\n",
            "Epoch 10/20\n",
            "446056/446056 [==============================] - 59s 133us/sample - loss: 1.3759\n",
            "Epoch 11/20\n",
            "446056/446056 [==============================] - 60s 133us/sample - loss: 1.3580\n",
            "Epoch 12/20\n",
            "446056/446056 [==============================] - 59s 133us/sample - loss: 1.3415\n",
            "Epoch 13/20\n",
            "446056/446056 [==============================] - 60s 134us/sample - loss: 1.3270\n",
            "Epoch 14/20\n",
            "446056/446056 [==============================] - 59s 133us/sample - loss: 1.3135\n",
            "Epoch 15/20\n",
            "446056/446056 [==============================] - 60s 134us/sample - loss: 1.3016\n",
            "Epoch 16/20\n",
            "446056/446056 [==============================] - 59s 133us/sample - loss: 1.2897\n",
            "Epoch 17/20\n",
            "446056/446056 [==============================] - 60s 134us/sample - loss: 1.2791\n",
            "Epoch 18/20\n",
            "446056/446056 [==============================] - 60s 134us/sample - loss: 1.2697\n",
            "Epoch 19/20\n",
            "446056/446056 [==============================] - 60s 134us/sample - loss: 1.2607\n",
            "Epoch 20/20\n",
            "446056/446056 [==============================] - 60s 134us/sample - loss: 1.2509\n"
          ],
          "name": "stdout"
        }
      ]
    },
    {
      "cell_type": "markdown",
      "metadata": {
        "id": "7igqEDy-AToU",
        "colab_type": "text"
      },
      "source": [
        "## test"
      ]
    },
    {
      "cell_type": "code",
      "metadata": {
        "id": "JMJeTiJ30ffq",
        "colab_type": "code",
        "colab": {
          "base_uri": "https://localhost:8080/",
          "height": 51
        },
        "outputId": "da8a0415-b531-472f-cccf-e52d9b5cca68"
      },
      "source": [
        "test_size = dataset_size * 1 // 100 # 20%를 트레이닝 셋으로 사용하자\n",
        "print(test_size)\n",
        "test = encoded[train_size:train_size+test_size] # 엄청나게 많은 글자가 연속된 하나의 텍스트임\n",
        "print(train_size)"
      ],
      "execution_count": 127,
      "outputs": [
        {
          "output_type": "stream",
          "text": [
            "11153\n",
            "446157\n"
          ],
          "name": "stdout"
        }
      ]
    },
    {
      "cell_type": "code",
      "metadata": {
        "id": "AcceLbOp8YNm",
        "colab_type": "code",
        "colab": {
          "base_uri": "https://localhost:8080/",
          "height": 34
        },
        "outputId": "e454043d-5a6d-4854-839a-17abb07ea634"
      },
      "source": [
        "test.shape"
      ],
      "execution_count": 128,
      "outputs": [
        {
          "output_type": "execute_result",
          "data": {
            "text/plain": [
              "(11153,)"
            ]
          },
          "metadata": {
            "tags": []
          },
          "execution_count": 128
        }
      ]
    },
    {
      "cell_type": "code",
      "metadata": {
        "id": "HoyleCZQ8Y-9",
        "colab_type": "code",
        "colab": {}
      },
      "source": [
        "X_test, y_test = window(test, win_len)"
      ],
      "execution_count": 0,
      "outputs": []
    },
    {
      "cell_type": "code",
      "metadata": {
        "id": "mCu9yuAj8hxM",
        "colab_type": "code",
        "colab": {}
      },
      "source": [
        "X_test_one_hot = tf.one_hot(X_test[0:2], depth=max_id)\n",
        "y_test_one_hot = tf.one_hot(y_test[0:2], depth=max_id)"
      ],
      "execution_count": 0,
      "outputs": []
    },
    {
      "cell_type": "code",
      "metadata": {
        "id": "TCJIIcza8svb",
        "colab_type": "code",
        "colab": {
          "base_uri": "https://localhost:8080/",
          "height": 289
        },
        "outputId": "0c379efc-b922-4b6d-928a-3c440e43435f"
      },
      "source": [
        "X_test_one_hot"
      ],
      "execution_count": 131,
      "outputs": [
        {
          "output_type": "execute_result",
          "data": {
            "text/plain": [
              "<tf.Tensor: shape=(2, 100, 39), dtype=float32, numpy=\n",
              "array([[[0., 0., 0., ..., 0., 0., 0.],\n",
              "        [0., 0., 0., ..., 0., 0., 0.],\n",
              "        [1., 0., 0., ..., 0., 0., 0.],\n",
              "        ...,\n",
              "        [0., 0., 0., ..., 0., 0., 0.],\n",
              "        [0., 0., 0., ..., 0., 0., 0.],\n",
              "        [0., 0., 0., ..., 0., 0., 0.]],\n",
              "\n",
              "       [[0., 0., 0., ..., 0., 0., 0.],\n",
              "        [1., 0., 0., ..., 0., 0., 0.],\n",
              "        [0., 0., 0., ..., 0., 0., 0.],\n",
              "        ...,\n",
              "        [0., 0., 0., ..., 0., 0., 0.],\n",
              "        [0., 0., 0., ..., 0., 0., 0.],\n",
              "        [0., 0., 0., ..., 0., 0., 0.]]], dtype=float32)>"
            ]
          },
          "metadata": {
            "tags": []
          },
          "execution_count": 131
        }
      ]
    },
    {
      "cell_type": "code",
      "metadata": {
        "id": "uKB1r1oA82q6",
        "colab_type": "code",
        "colab": {
          "base_uri": "https://localhost:8080/",
          "height": 136
        },
        "outputId": "98666e80-380d-4ab8-9f23-7441ec361147"
      },
      "source": [
        "y_test_one_hot"
      ],
      "execution_count": 132,
      "outputs": [
        {
          "output_type": "execute_result",
          "data": {
            "text/plain": [
              "<tf.Tensor: shape=(2, 39), dtype=float32, numpy=\n",
              "array([[0., 0., 0., 0., 0., 0., 0., 0., 0., 0., 0., 0., 0., 0., 0., 0.,\n",
              "        0., 0., 1., 0., 0., 0., 0., 0., 0., 0., 0., 0., 0., 0., 0., 0.,\n",
              "        0., 0., 0., 0., 0., 0., 0.],\n",
              "       [0., 1., 0., 0., 0., 0., 0., 0., 0., 0., 0., 0., 0., 0., 0., 0.,\n",
              "        0., 0., 0., 0., 0., 0., 0., 0., 0., 0., 0., 0., 0., 0., 0., 0.,\n",
              "        0., 0., 0., 0., 0., 0., 0.]], dtype=float32)>"
            ]
          },
          "metadata": {
            "tags": []
          },
          "execution_count": 132
        }
      ]
    },
    {
      "cell_type": "code",
      "metadata": {
        "id": "GDjQgqte9mT0",
        "colab_type": "code",
        "colab": {
          "base_uri": "https://localhost:8080/",
          "height": 85
        },
        "outputId": "818ddffd-7ee9-47c7-aa0f-46c3890a7038"
      },
      "source": [
        "y_test_one_hot[0]"
      ],
      "execution_count": 133,
      "outputs": [
        {
          "output_type": "execute_result",
          "data": {
            "text/plain": [
              "<tf.Tensor: shape=(39,), dtype=float32, numpy=\n",
              "array([0., 0., 0., 0., 0., 0., 0., 0., 0., 0., 0., 0., 0., 0., 0., 0., 0.,\n",
              "       0., 1., 0., 0., 0., 0., 0., 0., 0., 0., 0., 0., 0., 0., 0., 0., 0.,\n",
              "       0., 0., 0., 0., 0.], dtype=float32)>"
            ]
          },
          "metadata": {
            "tags": []
          },
          "execution_count": 133
        }
      ]
    },
    {
      "cell_type": "code",
      "metadata": {
        "id": "PWEAKneF9ofm",
        "colab_type": "code",
        "colab": {
          "base_uri": "https://localhost:8080/",
          "height": 85
        },
        "outputId": "6a9e60ea-1ae8-4ccc-ef54-84e4de9a0eed"
      },
      "source": [
        "y_test_one_hot[1]"
      ],
      "execution_count": 134,
      "outputs": [
        {
          "output_type": "execute_result",
          "data": {
            "text/plain": [
              "<tf.Tensor: shape=(39,), dtype=float32, numpy=\n",
              "array([0., 1., 0., 0., 0., 0., 0., 0., 0., 0., 0., 0., 0., 0., 0., 0., 0.,\n",
              "       0., 0., 0., 0., 0., 0., 0., 0., 0., 0., 0., 0., 0., 0., 0., 0., 0.,\n",
              "       0., 0., 0., 0., 0.], dtype=float32)>"
            ]
          },
          "metadata": {
            "tags": []
          },
          "execution_count": 134
        }
      ]
    },
    {
      "cell_type": "code",
      "metadata": {
        "id": "bSYMuYEw83hq",
        "colab_type": "code",
        "colab": {
          "base_uri": "https://localhost:8080/",
          "height": 34
        },
        "outputId": "bea98287-b85e-4f5f-a243-21fc0306dd00"
      },
      "source": [
        "y_pred = model.predict_classes(X_test_one_hot) # 예측된 y 값(글자)의 index를 알아냄\n",
        "# y_pred_one_hot = tf.one_hot(y_pred, depth=max_id)\n",
        "y_pred"
      ],
      "execution_count": 136,
      "outputs": [
        {
          "output_type": "execute_result",
          "data": {
            "text/plain": [
              "array([18,  1])"
            ]
          },
          "metadata": {
            "tags": []
          },
          "execution_count": 136
        }
      ]
    },
    {
      "cell_type": "code",
      "metadata": {
        "id": "86k6IQaG95BI",
        "colab_type": "code",
        "colab": {
          "base_uri": "https://localhost:8080/",
          "height": 680
        },
        "outputId": "a6f4eb32-8b35-423a-b606-923cf991f6ae"
      },
      "source": [
        "tokenizer.word_index"
      ],
      "execution_count": 137,
      "outputs": [
        {
          "output_type": "execute_result",
          "data": {
            "text/plain": [
              "{'\\n': 11,\n",
              " ' ': 1,\n",
              " '!': 31,\n",
              " '$': 39,\n",
              " '&': 38,\n",
              " \"'\": 28,\n",
              " ',': 18,\n",
              " '-': 32,\n",
              " '.': 27,\n",
              " '3': 37,\n",
              " ':': 24,\n",
              " ';': 29,\n",
              " '?': 30,\n",
              " 'a': 5,\n",
              " 'b': 22,\n",
              " 'c': 19,\n",
              " 'd': 13,\n",
              " 'e': 2,\n",
              " 'f': 20,\n",
              " 'g': 21,\n",
              " 'h': 7,\n",
              " 'i': 6,\n",
              " 'j': 33,\n",
              " 'k': 25,\n",
              " 'l': 12,\n",
              " 'm': 15,\n",
              " 'n': 10,\n",
              " 'o': 4,\n",
              " 'p': 23,\n",
              " 'q': 34,\n",
              " 'r': 9,\n",
              " 's': 8,\n",
              " 't': 3,\n",
              " 'u': 14,\n",
              " 'v': 26,\n",
              " 'w': 17,\n",
              " 'x': 35,\n",
              " 'y': 16,\n",
              " 'z': 36}"
            ]
          },
          "metadata": {
            "tags": []
          },
          "execution_count": 137
        }
      ]
    },
    {
      "cell_type": "code",
      "metadata": {
        "id": "5y_Pnujk93lD",
        "colab_type": "code",
        "colab": {}
      },
      "source": [
        "#print(shakespeare_text)"
      ],
      "execution_count": 0,
      "outputs": []
    },
    {
      "cell_type": "code",
      "metadata": {
        "id": "REVQoPhA-0DN",
        "colab_type": "code",
        "colab": {
          "base_uri": "https://localhost:8080/",
          "height": 54
        },
        "outputId": "ab64c814-4676-4ed1-e2a2-f337d8c7a848"
      },
      "source": [
        "# X_test의 첫번째 문장 --> 출력값으로 c가 나와야함\n",
        "tokenizer.sequences_to_texts([X_test[0] + 1]) # +1 해줘야 원래 index에서 -1빼준걸 원래대로 돌려 놓을 수 있음"
      ],
      "execution_count": 142,
      "outputs": [
        {
          "output_type": "execute_result",
          "data": {
            "text/plain": [
              "['i n   c a p u l e t , - - h o l d   m e   n o t ,   l e t   m e   g o . \\n \\n l a d y   m o n t a g u e : \\n t h o u   s h a l t   n o t   s t i r   a   f o o t   t o   s e e k   a   f o e . \\n \\n p r i n']"
            ]
          },
          "metadata": {
            "tags": []
          },
          "execution_count": 142
        }
      ]
    },
    {
      "cell_type": "code",
      "metadata": {
        "id": "1r9UOEaHBYbi",
        "colab_type": "code",
        "colab": {
          "base_uri": "https://localhost:8080/",
          "height": 54
        },
        "outputId": "b6df9b08-8bfb-4bf2-8769-8c1b18200ebb"
      },
      "source": [
        "# X_test의 두번째 문장 --> 출력값으로 e가 나와야함\n",
        "tokenizer.sequences_to_texts([X_test[1] + 1]) # +1 해줘야 원래 index에서 -1빼준걸 원래대로 돌려 놓을 수 있음"
      ],
      "execution_count": 154,
      "outputs": [
        {
          "output_type": "execute_result",
          "data": {
            "text/plain": [
              "['n   c a p u l e t , - - h o l d   m e   n o t ,   l e t   m e   g o . \\n \\n l a d y   m o n t a g u e : \\n t h o u   s h a l t   n o t   s t i r   a   f o o t   t o   s e e k   a   f o e . \\n \\n p r i n c']"
            ]
          },
          "metadata": {
            "tags": []
          },
          "execution_count": 154
        }
      ]
    },
    {
      "cell_type": "code",
      "metadata": {
        "id": "2jxalwmXA5iW",
        "colab_type": "code",
        "colab": {
          "base_uri": "https://localhost:8080/",
          "height": 34
        },
        "outputId": "50e0f9bd-9f2d-45e0-c104-bfd70acf5ced"
      },
      "source": [
        "# y_pred의 결과 --> 출력값으로 c랑 e가 나와야함\n",
        "tokenizer.sequences_to_texts([y_pred + 1]) # +1 해줘야 원래 index에서 -1빼준걸 원래대로 돌려 놓을 수 있음"
      ],
      "execution_count": 153,
      "outputs": [
        {
          "output_type": "execute_result",
          "data": {
            "text/plain": [
              "['c e']"
            ]
          },
          "metadata": {
            "tags": []
          },
          "execution_count": 153
        }
      ]
    },
    {
      "cell_type": "markdown",
      "metadata": {
        "id": "hJBC8JX3fQvp",
        "colab_type": "text"
      },
      "source": [
        "# Sentiment Analysis"
      ]
    },
    {
      "cell_type": "code",
      "metadata": {
        "id": "5zvwVfMQfPBB",
        "colab_type": "code",
        "colab": {
          "base_uri": "https://localhost:8080/",
          "height": 51
        },
        "outputId": "40292dae-0211-4e18-9856-0515055c548b"
      },
      "source": [
        "(X_train, y_train), (X_test, y_test) = keras.datasets.imdb.load_data()"
      ],
      "execution_count": 3,
      "outputs": [
        {
          "output_type": "stream",
          "text": [
            "Downloading data from https://storage.googleapis.com/tensorflow/tf-keras-datasets/imdb.npz\n",
            "17465344/17464789 [==============================] - 0s 0us/step\n"
          ],
          "name": "stdout"
        }
      ]
    },
    {
      "cell_type": "code",
      "metadata": {
        "id": "FGSPadEjfY9c",
        "colab_type": "code",
        "colab": {
          "base_uri": "https://localhost:8080/",
          "height": 173
        },
        "outputId": "b121d8fe-ebc0-426b-9229-7db4d20ee8a4"
      },
      "source": [
        "X_train"
      ],
      "execution_count": 9,
      "outputs": [
        {
          "output_type": "execute_result",
          "data": {
            "text/plain": [
              "array([list([1, 14, 22, 16, 43, 530, 973, 1622, 1385, 65, 458, 4468, 66, 3941, 4, 173, 36, 256, 5, 25, 100, 43, 838, 112, 50, 670, 22665, 9, 35, 480, 284, 5, 150, 4, 172, 112, 167, 21631, 336, 385, 39, 4, 172, 4536, 1111, 17, 546, 38, 13, 447, 4, 192, 50, 16, 6, 147, 2025, 19, 14, 22, 4, 1920, 4613, 469, 4, 22, 71, 87, 12, 16, 43, 530, 38, 76, 15, 13, 1247, 4, 22, 17, 515, 17, 12, 16, 626, 18, 19193, 5, 62, 386, 12, 8, 316, 8, 106, 5, 4, 2223, 5244, 16, 480, 66, 3785, 33, 4, 130, 12, 16, 38, 619, 5, 25, 124, 51, 36, 135, 48, 25, 1415, 33, 6, 22, 12, 215, 28, 77, 52, 5, 14, 407, 16, 82, 10311, 8, 4, 107, 117, 5952, 15, 256, 4, 31050, 7, 3766, 5, 723, 36, 71, 43, 530, 476, 26, 400, 317, 46, 7, 4, 12118, 1029, 13, 104, 88, 4, 381, 15, 297, 98, 32, 2071, 56, 26, 141, 6, 194, 7486, 18, 4, 226, 22, 21, 134, 476, 26, 480, 5, 144, 30, 5535, 18, 51, 36, 28, 224, 92, 25, 104, 4, 226, 65, 16, 38, 1334, 88, 12, 16, 283, 5, 16, 4472, 113, 103, 32, 15, 16, 5345, 19, 178, 32]),\n",
              "       list([1, 194, 1153, 194, 8255, 78, 228, 5, 6, 1463, 4369, 5012, 134, 26, 4, 715, 8, 118, 1634, 14, 394, 20, 13, 119, 954, 189, 102, 5, 207, 110, 3103, 21, 14, 69, 188, 8, 30, 23, 7, 4, 249, 126, 93, 4, 114, 9, 2300, 1523, 5, 647, 4, 116, 9, 35, 8163, 4, 229, 9, 340, 1322, 4, 118, 9, 4, 130, 4901, 19, 4, 1002, 5, 89, 29, 952, 46, 37, 4, 455, 9, 45, 43, 38, 1543, 1905, 398, 4, 1649, 26, 6853, 5, 163, 11, 3215, 10156, 4, 1153, 9, 194, 775, 7, 8255, 11596, 349, 2637, 148, 605, 15358, 8003, 15, 123, 125, 68, 23141, 6853, 15, 349, 165, 4362, 98, 5, 4, 228, 9, 43, 36893, 1157, 15, 299, 120, 5, 120, 174, 11, 220, 175, 136, 50, 9, 4373, 228, 8255, 5, 25249, 656, 245, 2350, 5, 4, 9837, 131, 152, 491, 18, 46151, 32, 7464, 1212, 14, 9, 6, 371, 78, 22, 625, 64, 1382, 9, 8, 168, 145, 23, 4, 1690, 15, 16, 4, 1355, 5, 28, 6, 52, 154, 462, 33, 89, 78, 285, 16, 145, 95]),\n",
              "       list([1, 14, 47, 8, 30, 31, 7, 4, 249, 108, 7, 4, 5974, 54, 61, 369, 13, 71, 149, 14, 22, 112, 4, 2401, 311, 12, 16, 3711, 33, 75, 43, 1829, 296, 4, 86, 320, 35, 534, 19, 263, 4821, 1301, 4, 1873, 33, 89, 78, 12, 66, 16, 4, 360, 7, 4, 58, 316, 334, 11, 4, 1716, 43, 645, 662, 8, 257, 85, 1200, 42, 1228, 2578, 83, 68, 3912, 15, 36, 165, 1539, 278, 36, 69, 44076, 780, 8, 106, 14, 6905, 1338, 18, 6, 22, 12, 215, 28, 610, 40, 6, 87, 326, 23, 2300, 21, 23, 22, 12, 272, 40, 57, 31, 11, 4, 22, 47, 6, 2307, 51, 9, 170, 23, 595, 116, 595, 1352, 13, 191, 79, 638, 89, 51428, 14, 9, 8, 106, 607, 624, 35, 534, 6, 227, 7, 129, 113]),\n",
              "       ...,\n",
              "       list([1, 11, 6, 230, 245, 6401, 9, 6, 1225, 446, 86527, 45, 2174, 84, 8322, 4007, 21, 4, 912, 84, 14532, 325, 725, 134, 15271, 1715, 84, 5, 36, 28, 57, 1099, 21, 8, 140, 8, 703, 5, 11656, 84, 56, 18, 1644, 14, 9, 31, 7, 4, 9406, 1209, 2295, 26094, 1008, 18, 6, 20, 207, 110, 563, 12, 8, 2901, 17793, 8, 97, 6, 20, 53, 4767, 74, 4, 460, 364, 1273, 29, 270, 11, 960, 108, 45, 40, 29, 2961, 395, 11, 6, 4065, 500, 7, 14492, 89, 364, 70, 29, 140, 4, 64, 4780, 11, 4, 2678, 26, 178, 4, 529, 443, 17793, 5, 27, 710, 117, 74936, 8123, 165, 47, 84, 37, 131, 818, 14, 595, 10, 10, 61, 1242, 1209, 10, 10, 288, 2260, 1702, 34, 2901, 17793, 4, 65, 496, 4, 231, 7, 790, 5, 6, 320, 234, 2766, 234, 1119, 1574, 7, 496, 4, 139, 929, 2901, 17793, 7750, 5, 4241, 18, 4, 8497, 13164, 250, 11, 1818, 7561, 4, 4217, 5408, 747, 1115, 372, 1890, 1006, 541, 9303, 7, 4, 59, 11027, 4, 3586, 22459]),\n",
              "       list([1, 1446, 7079, 69, 72, 3305, 13, 610, 930, 8, 12, 582, 23, 5, 16, 484, 685, 54, 349, 11, 4120, 2959, 45, 58, 1466, 13, 197, 12, 16, 43, 23, 21469, 5, 62, 30, 145, 402, 11, 4131, 51, 575, 32, 61, 369, 71, 66, 770, 12, 1054, 75, 100, 2198, 8, 4, 105, 37, 69, 147, 712, 75, 3543, 44, 257, 390, 5, 69, 263, 514, 105, 50, 286, 1814, 23, 4, 123, 13, 161, 40, 5, 421, 4, 116, 16, 897, 13, 40691, 40, 319, 5872, 112, 6700, 11, 4803, 121, 25, 70, 3468, 4, 719, 3798, 13, 18, 31, 62, 40, 8, 7200, 4, 29455, 7, 14, 123, 5, 942, 25, 8, 721, 12, 145, 5, 202, 12, 160, 580, 202, 12, 6, 52, 58, 11418, 92, 401, 728, 12, 39, 14, 251, 8, 15, 251, 5, 21213, 12, 38, 84, 80, 124, 12, 9, 23]),\n",
              "       list([1, 17, 6, 194, 337, 7, 4, 204, 22, 45, 254, 8, 106, 14, 123, 4, 12815, 270, 14437, 5, 16923, 12255, 732, 2098, 101, 405, 39, 14, 1034, 4, 1310, 9, 115, 50, 305, 12, 47, 4, 168, 5, 235, 7, 38, 111, 699, 102, 7, 4, 4039, 9245, 9, 24, 6, 78, 1099, 17, 2345, 16553, 21, 27, 9685, 6139, 5, 29043, 1603, 92, 1183, 4, 1310, 7, 4, 204, 42, 97, 90, 35, 221, 109, 29, 127, 27, 118, 8, 97, 12, 157, 21, 6789, 85010, 9, 6, 66, 78, 1099, 4, 631, 1191, 5, 2642, 272, 191, 1070, 6, 7585, 8, 2197, 70907, 10755, 544, 5, 383, 1271, 848, 1468, 12183, 497, 16876, 8, 1597, 8778, 19280, 21, 60, 27, 239, 9, 43, 8368, 209, 405, 10, 10, 12, 764, 40, 4, 248, 20, 12, 16, 5, 174, 1791, 72, 7, 51, 6, 1739, 22, 4, 204, 131, 9])],\n",
              "      dtype=object)"
            ]
          },
          "metadata": {
            "tags": []
          },
          "execution_count": 9
        }
      ]
    },
    {
      "cell_type": "code",
      "metadata": {
        "id": "GdTYn7vSf4vv",
        "colab_type": "code",
        "colab": {
          "base_uri": "https://localhost:8080/",
          "height": 34
        },
        "outputId": "81b4dc8d-d480-4eac-cea3-ff4a2cd07829"
      },
      "source": [
        "X_train.shape # 25000개의 리뷰 데이터"
      ],
      "execution_count": 10,
      "outputs": [
        {
          "output_type": "execute_result",
          "data": {
            "text/plain": [
              "(25000,)"
            ]
          },
          "metadata": {
            "tags": []
          },
          "execution_count": 10
        }
      ]
    },
    {
      "cell_type": "code",
      "metadata": {
        "id": "ReZno0sMgDJn",
        "colab_type": "code",
        "colab": {
          "base_uri": "https://localhost:8080/",
          "height": 51
        },
        "outputId": "50dc8c22-04ec-4a62-c1a2-dd7e5d429361"
      },
      "source": [
        "# 각 리뷰의 길이는 다 다름\n",
        "print(len(X_train[0]))\n",
        "print(len(X_train[20]))"
      ],
      "execution_count": 14,
      "outputs": [
        {
          "output_type": "stream",
          "text": [
            "218\n",
            "129\n"
          ],
          "name": "stdout"
        }
      ]
    },
    {
      "cell_type": "code",
      "metadata": {
        "id": "YNjm8p7ngIQu",
        "colab_type": "code",
        "colab": {
          "base_uri": "https://localhost:8080/",
          "height": 51
        },
        "outputId": "f84c14e4-e632-4bc5-c66d-d78dc9605f8c"
      },
      "source": [
        "print(y_train)\n",
        "print(y_train.shape) # 25000개의 정답 레이블: 1-positive vs 0-negative"
      ],
      "execution_count": 17,
      "outputs": [
        {
          "output_type": "stream",
          "text": [
            "[1 0 0 ... 0 1 0]\n",
            "(25000,)\n"
          ],
          "name": "stdout"
        }
      ]
    },
    {
      "cell_type": "markdown",
      "metadata": {
        "id": "nSCwqFBet9TD",
        "colab_type": "text"
      },
      "source": [
        "## pad_sequences"
      ]
    },
    {
      "cell_type": "code",
      "metadata": {
        "id": "QajUpSx_huOf",
        "colab_type": "code",
        "colab": {
          "base_uri": "https://localhost:8080/",
          "height": 51
        },
        "outputId": "56d90c60-cb49-42cd-c17f-2d9c41b573ac"
      },
      "source": [
        "maxlen = 500\n",
        "\n",
        "# Pads sequences to the same length.\n",
        "# shape = (num_samples, num_timesteps), num_timesteps = maxlen\n",
        "# Sequences가 num_timesteps 보다 짧으면 zero padding. Pre-padding is the default.\n",
        "# Sequences가 num_timesteps 길면 truncate. Pre-truncate is the default.\n",
        "\n",
        "x_train_ = sequence.pad_sequences(x_train, maxlen=maxlen)\n",
        "x_test_ = sequence.pad_sequences(x_test, maxlen=maxlen)\n",
        "print('x_train shape:', x_train.shape)\n",
        "print('x_test shape:', x_test.shape)\n",
        "\n"
      ],
      "execution_count": 57,
      "outputs": [
        {
          "output_type": "stream",
          "text": [
            "x_train shape: (25000,)\n",
            "x_test shape: (25000,)\n"
          ],
          "name": "stdout"
        }
      ]
    },
    {
      "cell_type": "code",
      "metadata": {
        "id": "Y2NR_blgh5MK",
        "colab_type": "code",
        "colab": {
          "base_uri": "https://localhost:8080/",
          "height": 71
        },
        "outputId": "241aa3c6-84ca-4759-ca21-74058ab9b03d"
      },
      "source": [
        "print(x_train[0])\n",
        "print(len(x_train[0]))"
      ],
      "execution_count": 58,
      "outputs": [
        {
          "output_type": "stream",
          "text": [
            "[1, 14, 22, 16, 43, 530, 973, 1622, 1385, 65, 458, 4468, 66, 3941, 4, 173, 36, 256, 5, 25, 100, 43, 838, 112, 50, 670, 22665, 9, 35, 480, 284, 5, 150, 4, 172, 112, 167, 21631, 336, 385, 39, 4, 172, 4536, 1111, 17, 546, 38, 13, 447, 4, 192, 50, 16, 6, 147, 2025, 19, 14, 22, 4, 1920, 4613, 469, 4, 22, 71, 87, 12, 16, 43, 530, 38, 76, 15, 13, 1247, 4, 22, 17, 515, 17, 12, 16, 626, 18, 19193, 5, 62, 386, 12, 8, 316, 8, 106, 5, 4, 2223, 5244, 16, 480, 66, 3785, 33, 4, 130, 12, 16, 38, 619, 5, 25, 124, 51, 36, 135, 48, 25, 1415, 33, 6, 22, 12, 215, 28, 77, 52, 5, 14, 407, 16, 82, 10311, 8, 4, 107, 117, 5952, 15, 256, 4, 31050, 7, 3766, 5, 723, 36, 71, 43, 530, 476, 26, 400, 317, 46, 7, 4, 12118, 1029, 13, 104, 88, 4, 381, 15, 297, 98, 32, 2071, 56, 26, 141, 6, 194, 7486, 18, 4, 226, 22, 21, 134, 476, 26, 480, 5, 144, 30, 5535, 18, 51, 36, 28, 224, 92, 25, 104, 4, 226, 65, 16, 38, 1334, 88, 12, 16, 283, 5, 16, 4472, 113, 103, 32, 15, 16, 5345, 19, 178, 32]\n",
            "218\n"
          ],
          "name": "stdout"
        }
      ]
    },
    {
      "cell_type": "code",
      "metadata": {
        "id": "Olbp3ragh_nb",
        "colab_type": "code",
        "colab": {
          "base_uri": "https://localhost:8080/",
          "height": 748
        },
        "outputId": "60e1bb91-5f66-4c38-cc27-6bc874e26d77"
      },
      "source": [
        "print(x_train_[0])\n",
        "print(len(x_train_[0]))"
      ],
      "execution_count": 59,
      "outputs": [
        {
          "output_type": "stream",
          "text": [
            "[    0     0     0     0     0     0     0     0     0     0     0     0\n",
            "     0     0     0     0     0     0     0     0     0     0     0     0\n",
            "     0     0     0     0     0     0     0     0     0     0     0     0\n",
            "     0     0     0     0     0     0     0     0     0     0     0     0\n",
            "     0     0     0     0     0     0     0     0     0     0     0     0\n",
            "     0     0     0     0     0     0     0     0     0     0     0     0\n",
            "     0     0     0     0     0     0     0     0     0     0     0     0\n",
            "     0     0     0     0     0     0     0     0     0     0     0     0\n",
            "     0     0     0     0     0     0     0     0     0     0     0     0\n",
            "     0     0     0     0     0     0     0     0     0     0     0     0\n",
            "     0     0     0     0     0     0     0     0     0     0     0     0\n",
            "     0     0     0     0     0     0     0     0     0     0     0     0\n",
            "     0     0     0     0     0     0     0     0     0     0     0     0\n",
            "     0     0     0     0     0     0     0     0     0     0     0     0\n",
            "     0     0     0     0     0     0     0     0     0     0     0     0\n",
            "     0     0     0     0     0     0     0     0     0     0     0     0\n",
            "     0     0     0     0     0     0     0     0     0     0     0     0\n",
            "     0     0     0     0     0     0     0     0     0     0     0     0\n",
            "     0     0     0     0     0     0     0     0     0     0     0     0\n",
            "     0     0     0     0     0     0     0     0     0     0     0     0\n",
            "     0     0     0     0     0     0     0     0     0     0     0     0\n",
            "     0     0     0     0     0     0     0     0     0     0     0     0\n",
            "     0     0     0     0     0     0     0     0     0     0     0     0\n",
            "     0     0     0     0     0     0     1    14    22    16    43   530\n",
            "   973  1622  1385    65   458  4468    66  3941     4   173    36   256\n",
            "     5    25   100    43   838   112    50   670 22665     9    35   480\n",
            "   284     5   150     4   172   112   167 21631   336   385    39     4\n",
            "   172  4536  1111    17   546    38    13   447     4   192    50    16\n",
            "     6   147  2025    19    14    22     4  1920  4613   469     4    22\n",
            "    71    87    12    16    43   530    38    76    15    13  1247     4\n",
            "    22    17   515    17    12    16   626    18 19193     5    62   386\n",
            "    12     8   316     8   106     5     4  2223  5244    16   480    66\n",
            "  3785    33     4   130    12    16    38   619     5    25   124    51\n",
            "    36   135    48    25  1415    33     6    22    12   215    28    77\n",
            "    52     5    14   407    16    82 10311     8     4   107   117  5952\n",
            "    15   256     4 31050     7  3766     5   723    36    71    43   530\n",
            "   476    26   400   317    46     7     4 12118  1029    13   104    88\n",
            "     4   381    15   297    98    32  2071    56    26   141     6   194\n",
            "  7486    18     4   226    22    21   134   476    26   480     5   144\n",
            "    30  5535    18    51    36    28   224    92    25   104     4   226\n",
            "    65    16    38  1334    88    12    16   283     5    16  4472   113\n",
            "   103    32    15    16  5345    19   178    32]\n",
            "500\n"
          ],
          "name": "stdout"
        }
      ]
    },
    {
      "cell_type": "code",
      "metadata": {
        "id": "f_GONEPAkci7",
        "colab_type": "code",
        "colab": {
          "base_uri": "https://localhost:8080/",
          "height": 51
        },
        "outputId": "1d061def-f21a-4ddb-a1e0-afa05d1cafff"
      },
      "source": [
        "maxlen = 100\n",
        "\n",
        "x_train_ = sequence.pad_sequences(x_train, maxlen=maxlen)\n",
        "x_test_ = sequence.pad_sequences(x_test, maxlen=maxlen)\n",
        "print('x_train shape:', x_train.shape)\n",
        "print('x_test shape:', x_test.shape)\n",
        "\n"
      ],
      "execution_count": 60,
      "outputs": [
        {
          "output_type": "stream",
          "text": [
            "x_train shape: (25000,)\n",
            "x_test shape: (25000,)\n"
          ],
          "name": "stdout"
        }
      ]
    },
    {
      "cell_type": "code",
      "metadata": {
        "id": "1-mKqtQXkfAc",
        "colab_type": "code",
        "colab": {
          "base_uri": "https://localhost:8080/",
          "height": 71
        },
        "outputId": "2b266193-eadd-4e1d-b82b-b33f0e57caae"
      },
      "source": [
        "print(x_train[0])\n",
        "print(len(x_train[0]))"
      ],
      "execution_count": 61,
      "outputs": [
        {
          "output_type": "stream",
          "text": [
            "[1, 14, 22, 16, 43, 530, 973, 1622, 1385, 65, 458, 4468, 66, 3941, 4, 173, 36, 256, 5, 25, 100, 43, 838, 112, 50, 670, 22665, 9, 35, 480, 284, 5, 150, 4, 172, 112, 167, 21631, 336, 385, 39, 4, 172, 4536, 1111, 17, 546, 38, 13, 447, 4, 192, 50, 16, 6, 147, 2025, 19, 14, 22, 4, 1920, 4613, 469, 4, 22, 71, 87, 12, 16, 43, 530, 38, 76, 15, 13, 1247, 4, 22, 17, 515, 17, 12, 16, 626, 18, 19193, 5, 62, 386, 12, 8, 316, 8, 106, 5, 4, 2223, 5244, 16, 480, 66, 3785, 33, 4, 130, 12, 16, 38, 619, 5, 25, 124, 51, 36, 135, 48, 25, 1415, 33, 6, 22, 12, 215, 28, 77, 52, 5, 14, 407, 16, 82, 10311, 8, 4, 107, 117, 5952, 15, 256, 4, 31050, 7, 3766, 5, 723, 36, 71, 43, 530, 476, 26, 400, 317, 46, 7, 4, 12118, 1029, 13, 104, 88, 4, 381, 15, 297, 98, 32, 2071, 56, 26, 141, 6, 194, 7486, 18, 4, 226, 22, 21, 134, 476, 26, 480, 5, 144, 30, 5535, 18, 51, 36, 28, 224, 92, 25, 104, 4, 226, 65, 16, 38, 1334, 88, 12, 16, 283, 5, 16, 4472, 113, 103, 32, 15, 16, 5345, 19, 178, 32]\n",
            "218\n"
          ],
          "name": "stdout"
        }
      ]
    },
    {
      "cell_type": "code",
      "metadata": {
        "id": "eQnNnZXEkfgT",
        "colab_type": "code",
        "colab": {
          "base_uri": "https://localhost:8080/",
          "height": 187
        },
        "outputId": "d39f57f1-4e66-4059-eb79-4eaae10af129"
      },
      "source": [
        "print(x_train_[0])\n",
        "print(len(x_train_[0]))"
      ],
      "execution_count": 62,
      "outputs": [
        {
          "output_type": "stream",
          "text": [
            "[ 1415    33     6    22    12   215    28    77    52     5    14   407\n",
            "    16    82 10311     8     4   107   117  5952    15   256     4 31050\n",
            "     7  3766     5   723    36    71    43   530   476    26   400   317\n",
            "    46     7     4 12118  1029    13   104    88     4   381    15   297\n",
            "    98    32  2071    56    26   141     6   194  7486    18     4   226\n",
            "    22    21   134   476    26   480     5   144    30  5535    18    51\n",
            "    36    28   224    92    25   104     4   226    65    16    38  1334\n",
            "    88    12    16   283     5    16  4472   113   103    32    15    16\n",
            "  5345    19   178    32]\n",
            "100\n"
          ],
          "name": "stdout"
        }
      ]
    },
    {
      "cell_type": "code",
      "metadata": {
        "id": "fkiLC-nmmHfA",
        "colab_type": "code",
        "colab": {
          "base_uri": "https://localhost:8080/",
          "height": 34
        },
        "outputId": "e4598842-59e9-4560-bfa7-121359dae230"
      },
      "source": [
        "print(y_train)"
      ],
      "execution_count": 66,
      "outputs": [
        {
          "output_type": "stream",
          "text": [
            "[1 0 0 ... 0 1 0]\n"
          ],
          "name": "stdout"
        }
      ]
    },
    {
      "cell_type": "code",
      "metadata": {
        "id": "okXnwS0YmLAA",
        "colab_type": "code",
        "colab": {
          "base_uri": "https://localhost:8080/",
          "height": 34
        },
        "outputId": "41afaf79-aca8-4499-e734-64bd43e77a96"
      },
      "source": [
        "x_train_.shape"
      ],
      "execution_count": 70,
      "outputs": [
        {
          "output_type": "execute_result",
          "data": {
            "text/plain": [
              "(25000, 100)"
            ]
          },
          "metadata": {
            "tags": []
          },
          "execution_count": 70
        }
      ]
    },
    {
      "cell_type": "code",
      "metadata": {
        "id": "NOORHqNcmN2p",
        "colab_type": "code",
        "colab": {
          "base_uri": "https://localhost:8080/",
          "height": 34
        },
        "outputId": "f107b241-59cc-406f-ba72-14befa935a0d"
      },
      "source": [
        "y_train.shape"
      ],
      "execution_count": 71,
      "outputs": [
        {
          "output_type": "execute_result",
          "data": {
            "text/plain": [
              "(25000,)"
            ]
          },
          "metadata": {
            "tags": []
          },
          "execution_count": 71
        }
      ]
    },
    {
      "cell_type": "markdown",
      "metadata": {
        "id": "0a8WLlrhtWsK",
        "colab_type": "text"
      },
      "source": [
        "## full code"
      ]
    },
    {
      "cell_type": "code",
      "metadata": {
        "id": "qYyNNPkKloMe",
        "colab_type": "code",
        "colab": {}
      },
      "source": [
        "max_features = 20000\n",
        "# cut texts after this number of words (among top max_features most common words)\n",
        "maxlen = 80\n",
        "\n",
        "(x_train, y_train), (x_test, y_test) = keras.datasets.imdb.load_data(num_words=max_features)\n",
        "\n",
        "x_train = sequence.pad_sequences(x_train, maxlen=maxlen)\n",
        "x_test = sequence.pad_sequences(x_test, maxlen=maxlen)"
      ],
      "execution_count": 0,
      "outputs": []
    },
    {
      "cell_type": "code",
      "metadata": {
        "id": "-v2qUhXMpz3V",
        "colab_type": "code",
        "colab": {
          "base_uri": "https://localhost:8080/",
          "height": 422
        },
        "outputId": "83aab197-493d-445e-d235-0be0f83002c4"
      },
      "source": [
        "# Embedding layer\n",
        "##Turns 양의 정수 값을 갖는 index를 dense vectors of fixed size로 변환(워드 임베딩). eg. [[4], [20]] -> [[0.25, 0.1], [0.6, -0.2]]\n",
        "##This layer can only be used as the first layer in a model.\n",
        "\n",
        "model = keras.models.Sequential()\n",
        "model.add(keras.layers.Embedding(max_features, 128))\n",
        "model.add(keras.layers.LSTM(128))\n",
        "model.add(keras.layers.Dense(1, activation='sigmoid'))\n",
        "keras.utils.plot_model(model, show_shapes=True)"
      ],
      "execution_count": 83,
      "outputs": [
        {
          "output_type": "execute_result",
          "data": {
            "image/png": "[encoded data removed]",
            "text/plain": [
              "<IPython.core.display.Image object>"
            ]
          },
          "metadata": {
            "tags": []
          },
          "execution_count": 83
        }
      ]
    },
    {
      "cell_type": "code",
      "metadata": {
        "id": "n4YagemzprzX",
        "colab_type": "code",
        "colab": {
          "base_uri": "https://localhost:8080/",
          "height": 102
        },
        "outputId": "0f96c45d-7bc6-4f54-c415-dbbbe13f8916"
      },
      "source": [
        "batch_size = 32\n",
        "model.compile(loss='binary_crossentropy', optimizer='adam', metrics=['accuracy'])\n",
        "model.fit(x_train, y_train, batch_size=batch_size, epochs=1)\n",
        "score, acc = model.evaluate(x_test, y_test, batch_size=batch_size)\n",
        "print('Test score:', score)\n",
        "print('Test accuracy:', acc)"
      ],
      "execution_count": 82,
      "outputs": [
        {
          "output_type": "stream",
          "text": [
            "Train on 25000 samples\n",
            "25000/25000 [==============================] - 24s 976us/sample - loss: 0.4257 - accuracy: 0.7980\n",
            "25000/25000 [==============================] - 4s 154us/sample - loss: 0.3649 - accuracy: 0.8413\n",
            "Test score: 0.36490911024093625\n",
            "Test accuracy: 0.84132\n"
          ],
          "name": "stdout"
        }
      ]
    }
  ]
}