{
  "nbformat": 4,
  "nbformat_minor": 0,
  "metadata": {
    "colab": {
      "name": "16-1.ipynb",
      "provenance": [],
      "collapsed_sections": []
    },
    "kernelspec": {
      "name": "python3",
      "display_name": "Python 3"
    }
  },
  "cells": [
    {
      "cell_type": "markdown",
      "metadata": {
        "id": "mU65y5ObQ_Ds",
        "colab_type": "text"
      },
      "source": [
        "# Word2Vec"
      ]
    },
    {
      "cell_type": "code",
      "metadata": {
        "id": "kqfOMs8UJdg2",
        "colab_type": "code",
        "colab": {
          "base_uri": "https://localhost:8080/",
          "height": 68
        },
        "outputId": "d0cfe0ce-e167-461b-83b7-683f2f661b21"
      },
      "source": [
        "# Python ≥3.5 is required\n",
        "import sys\n",
        "assert sys.version_info >= (3, 5)\n",
        "\n",
        "# Scikit-Learn ≥0.20 is required\n",
        "import sklearn\n",
        "assert sklearn.__version__ >= \"0.20\"\n",
        "\n",
        "try:\n",
        "    # %tensorflow_version only exists in Colab.\n",
        "    %tensorflow_version 2.x\n",
        "    !pip install -q -U tensorflow-addons\n",
        "    IS_COLAB = True\n",
        "except Exception:\n",
        "    IS_COLAB = False\n",
        "\n",
        "# TensorFlow ≥2.0 is required\n",
        "import tensorflow as tf\n",
        "from tensorflow import keras\n",
        "assert tf.__version__ >= \"2.0\"\n",
        "\n",
        "if not tf.config.list_physical_devices('GPU'):\n",
        "    print(\"No GPU was detected. LSTMs and CNNs can be very slow without a GPU.\")\n",
        "    if IS_COLAB:\n",
        "        print(\"Go to Runtime > Change runtime and select a GPU hardware accelerator.\")\n",
        "\n",
        "# Common imports\n",
        "import numpy as np\n",
        "import os\n",
        "\n",
        "# to make this notebook's output stable across runs\n",
        "np.random.seed(42)\n",
        "tf.random.set_seed(42)\n",
        "\n",
        "# To plot pretty figures\n",
        "%matplotlib inline\n",
        "import matplotlib as mpl\n",
        "import matplotlib.pyplot as plt"
      ],
      "execution_count": 1,
      "outputs": [
        {
          "output_type": "stream",
          "text": [
            "TensorFlow 2.x selected.\n",
            "No GPU was detected. LSTMs and CNNs can be very slow without a GPU.\n",
            "Go to Runtime > Change runtime and select a GPU hardware accelerator.\n"
          ],
          "name": "stdout"
        }
      ]
    },
    {
      "cell_type": "code",
      "metadata": {
        "id": "Vb1-BPdN3ba6",
        "colab_type": "code",
        "colab": {}
      },
      "source": [
        "text = ['i am yours', 'how are you', 'he says goodbye', 'i love you', 'i will kill you', 'it is time to die']\n",
        "\n",
        "tokenizer = keras.preprocessing.text.Tokenizer(char_level=False) # toknizing을 할 수 있는 tokenizer을 불러온다\n",
        "# char_level=True\n",
        "tokenizer.fit_on_texts(text) # 위 텍스트 데이터를 tokenizing할 수있도록 tokenizer를 fitting해준다.\n",
        "word2index = tokenizer.word_index"
      ],
      "execution_count": 0,
      "outputs": []
    },
    {
      "cell_type": "code",
      "metadata": {
        "id": "5Soz1q9t3shH",
        "colab_type": "code",
        "colab": {
          "base_uri": "https://localhost:8080/",
          "height": 306
        },
        "outputId": "06ab4d97-f8c1-49f9-e0c8-029dbc9a5d6d"
      },
      "source": [
        "word2index"
      ],
      "execution_count": 3,
      "outputs": [
        {
          "output_type": "execute_result",
          "data": {
            "text/plain": [
              "{'am': 3,\n",
              " 'are': 6,\n",
              " 'die': 17,\n",
              " 'goodbye': 9,\n",
              " 'he': 7,\n",
              " 'how': 5,\n",
              " 'i': 1,\n",
              " 'is': 14,\n",
              " 'it': 13,\n",
              " 'kill': 12,\n",
              " 'love': 10,\n",
              " 'says': 8,\n",
              " 'time': 15,\n",
              " 'to': 16,\n",
              " 'will': 11,\n",
              " 'you': 2,\n",
              " 'yours': 4}"
            ]
          },
          "metadata": {
            "tags": []
          },
          "execution_count": 3
        }
      ]
    },
    {
      "cell_type": "code",
      "metadata": {
        "id": "ZUwBp84h6jji",
        "colab_type": "code",
        "colab": {
          "base_uri": "https://localhost:8080/",
          "height": 119
        },
        "outputId": "6d08cdf6-f1f1-4bce-83ee-e48423986a66"
      },
      "source": [
        "tokenizer.texts_to_sequences(text)"
      ],
      "execution_count": 4,
      "outputs": [
        {
          "output_type": "execute_result",
          "data": {
            "text/plain": [
              "[[1, 3, 4],\n",
              " [5, 6, 2],\n",
              " [7, 8, 9],\n",
              " [1, 10, 2],\n",
              " [1, 11, 12, 2],\n",
              " [13, 14, 15, 16, 17]]"
            ]
          },
          "metadata": {
            "tags": []
          },
          "execution_count": 4
        }
      ]
    },
    {
      "cell_type": "code",
      "metadata": {
        "id": "QhKsy0OG2Z3L",
        "colab_type": "code",
        "colab": {}
      },
      "source": [
        "indexed_corpus = tokenizer.texts_to_sequences(text)\n",
        "\n",
        "embedding_dim = 100\n",
        "vocab_size = len(word2index)\n",
        "\n",
        "input_target = keras.layers.Input((1,))\n",
        "input_context = keras.layers.Input((1,))\n",
        "\n",
        "embedding_layer = keras.layers.Embedding(vocab_size, embedding_dim, input_length=1)\n",
        "\n",
        "target_embedding = embedding_layer(input_target)\n",
        "target_embedding = keras.layers.Reshape((embedding_dim, 1))(target_embedding)\n",
        "context_embedding = embedding_layer(input_context)\n",
        "context_embedding = keras.layers.Reshape((embedding_dim, 1))(context_embedding)\n",
        "\n",
        "hidden_layer = keras.layers.Dot(axes=1)([target_embedding, context_embedding])\n",
        "hidden_layer = keras.layers.Reshape((1,))(hidden_layer)\n",
        "\n",
        "output = keras.layers.Dense(1, activation='sigmoid')(hidden_layer)\n",
        "\n",
        "model = keras.models.Model(inputs=[input_target, input_context], outputs=output)\n",
        "#model.summary()\n",
        "model.compile(loss='binary_crossentropy', optimizer='sgd')\n"
      ],
      "execution_count": 0,
      "outputs": []
    },
    {
      "cell_type": "code",
      "metadata": {
        "id": "0WxYaS1eRz07",
        "colab_type": "code",
        "colab": {
          "base_uri": "https://localhost:8080/",
          "height": 644
        },
        "outputId": "839926e4-db8f-45f1-d367-f6e174650e51"
      },
      "source": [
        "keras.utils.plot_model(model, show_shapes=True)\n",
        "\n",
        "# index를 인풋으로 두개 받고,\n",
        "# 그 인덱스를 embedding에 통과시킴으로서 one-hot * W를 곱한것과 같은 효과를 내주고\n",
        "# W의 한줄이 곧 한 단어를 의미 --> 1차원 짜리 W를 dot을 통해 한줄만 추출"
      ],
      "execution_count": 6,
      "outputs": [
        {
          "output_type": "execute_result",
          "data": {
            "image/png": "[encoded data removed]",
            "text/plain": [
              "<IPython.core.display.Image object>"
            ]
          },
          "metadata": {
            "tags": []
          },
          "execution_count": 6
        }
      ]
    },
    {
      "cell_type": "code",
      "metadata": {
        "id": "1c06UTUfaGub",
        "colab_type": "code",
        "colab": {}
      },
      "source": [
        "def generating_wordpairs(indexed_corpus, vocab_size, window_size=2):\n",
        "  X = []\n",
        "  Y = []\n",
        "  for row in indexed_corpus:\n",
        "    # row --> 각각의 문장에 대해서, i.e. \"how are you\"\n",
        "    a = keras.preprocessing.sequence.skipgrams(sequence=row, vocabulary_size=vocab_size, window_size=window_size, negative_samples=1.0, shuffle=True, categorical=False, sampling_table=None, seed=None)\n",
        "    print('skipgrams', a)\n",
        "    x, y = a\n",
        "    X = X + list(x)\n",
        "    Y = Y + list(y)\n",
        "  return X, Y"
      ],
      "execution_count": 0,
      "outputs": []
    },
    {
      "cell_type": "code",
      "metadata": {
        "id": "YMKPNCQHKUiI",
        "colab_type": "code",
        "colab": {
          "base_uri": "https://localhost:8080/",
          "height": 292
        },
        "outputId": "b1d76e9e-45d7-4cab-8ce8-ebd03464c84f"
      },
      "source": [
        "\n",
        "epochs = 1\n",
        "batch_size = 3\n",
        "\n",
        "for i in range(epochs):\n",
        "    idx_batch = np.random.choice(len(indexed_corpus), batch_size)\n",
        "    print('idx_batch', idx_batch)\n",
        "    X, Y = generating_wordpairs(np.array(indexed_corpus)[idx_batch].tolist(), vocab_size)\n",
        "    print('X:', X)\n",
        "    print('Y:', Y)\n",
        "    word_target, word_context = zip(*X)\n",
        "    #print('word_target', word_target)\n",
        "    #print('word_context', word_context)\n",
        "    word_target = np.array(word_target, dtype=np.int32)\n",
        "    word_context = np.array(word_context, dtype=np.int32)\n",
        "    print('word_target', word_target)\n",
        "    print('word_context', word_context)\n",
        "    \n",
        "    target = np.zeros((1,))\n",
        "    context = np.zeros((1,))\n",
        "    label = np.zeros((1,))\n",
        "    idx = np.random.randint(0, len(Y)-1)\n",
        "    target[0,] = word_target[idx]\n",
        "    context[0,] = word_context[idx]\n",
        "    label[0,] = Y[idx]\n",
        "    print('idx', idx)\n",
        "    print('target:', target)\n",
        "    print('context:', context)\n",
        "    print('label:', label)\n",
        "    loss = model.train_on_batch([target, context], label)\n",
        "    if i % 1 == 0:\n",
        "        print(\"Iteration {}, loss={}\".format(i, loss))"
      ],
      "execution_count": 8,
      "outputs": [
        {
          "output_type": "stream",
          "text": [
            "idx_batch [3 4 2]\n",
            "skipgrams ([[2, 15], [2, 10], [1, 10], [1, 2], [1, 4], [1, 16], [10, 3], [2, 15], [10, 1], [10, 2], [10, 5], [2, 1]], [0, 1, 1, 1, 0, 0, 0, 0, 1, 1, 0, 1])\n",
            "skipgrams ([[2, 6], [1, 15], [11, 12], [11, 12], [11, 12], [2, 8], [11, 3], [2, 11], [11, 2], [1, 12], [12, 11], [2, 12], [1, 11], [1, 5], [12, 11], [12, 1], [12, 13], [12, 1], [11, 1], [12, 2]], [0, 0, 0, 1, 0, 0, 0, 1, 1, 1, 0, 1, 1, 0, 1, 0, 0, 1, 1, 1])\n",
            "skipgrams ([[7, 8], [9, 8], [9, 1], [7, 3], [7, 9], [8, 6], [7, 15], [8, 7], [9, 7], [9, 15], [8, 8], [8, 9]], [1, 1, 0, 0, 1, 0, 0, 1, 1, 0, 0, 1])\n",
            "X: [[2, 15], [2, 10], [1, 10], [1, 2], [1, 4], [1, 16], [10, 3], [2, 15], [10, 1], [10, 2], [10, 5], [2, 1], [2, 6], [1, 15], [11, 12], [11, 12], [11, 12], [2, 8], [11, 3], [2, 11], [11, 2], [1, 12], [12, 11], [2, 12], [1, 11], [1, 5], [12, 11], [12, 1], [12, 13], [12, 1], [11, 1], [12, 2], [7, 8], [9, 8], [9, 1], [7, 3], [7, 9], [8, 6], [7, 15], [8, 7], [9, 7], [9, 15], [8, 8], [8, 9]]\n",
            "Y: [0, 1, 1, 1, 0, 0, 0, 0, 1, 1, 0, 1, 0, 0, 0, 1, 0, 0, 0, 1, 1, 1, 0, 1, 1, 0, 1, 0, 0, 1, 1, 1, 1, 1, 0, 0, 1, 0, 0, 1, 1, 0, 0, 1]\n",
            "word_target [ 2  2  1  1  1  1 10  2 10 10 10  2  2  1 11 11 11  2 11  2 11  1 12  2\n",
            "  1  1 12 12 12 12 11 12  7  9  9  7  7  8  7  8  9  9  8  8]\n",
            "word_context [15 10 10  2  4 16  3 15  1  2  5  1  6 15 12 12 12  8  3 11  2 12 11 12\n",
            " 11  5 11  1 13  1  1  2  8  8  1  3  9  6 15  7  7 15  8  9]\n",
            "idx 7\n",
            "target: [2.]\n",
            "context: [15.]\n",
            "label: [0.]\n",
            "Iteration 0, loss=0.6936308145523071\n"
          ],
          "name": "stdout"
        }
      ]
    },
    {
      "cell_type": "markdown",
      "metadata": {
        "id": "5cAEPud2Z7nC",
        "colab_type": "text"
      },
      "source": [
        "### visualize"
      ]
    },
    {
      "cell_type": "code",
      "metadata": {
        "id": "08_SDSEf_-KA",
        "colab_type": "code",
        "colab": {}
      },
      "source": [
        "#X_target_new = np.array([5.])\n",
        "#X_context_new = np.array([6.])\n",
        "\n",
        "grad = model.get_weights()"
      ],
      "execution_count": 0,
      "outputs": []
    },
    {
      "cell_type": "code",
      "metadata": {
        "id": "ITCpK4T8Hp8i",
        "colab_type": "code",
        "colab": {
          "base_uri": "https://localhost:8080/",
          "height": 34
        },
        "outputId": "c9051474-6ee5-47be-b63b-4614eaaac075"
      },
      "source": [
        "grad[0].shape"
      ],
      "execution_count": 10,
      "outputs": [
        {
          "output_type": "execute_result",
          "data": {
            "text/plain": [
              "(17, 100)"
            ]
          },
          "metadata": {
            "tags": []
          },
          "execution_count": 10
        }
      ]
    },
    {
      "cell_type": "code",
      "metadata": {
        "id": "1XSVrbYkV_ux",
        "colab_type": "code",
        "colab": {
          "base_uri": "https://localhost:8080/",
          "height": 238
        },
        "outputId": "fc30d928-6fb8-4ffb-af9e-f67bd6481c6c"
      },
      "source": [
        "grad[0]"
      ],
      "execution_count": 11,
      "outputs": [
        {
          "output_type": "execute_result",
          "data": {
            "text/plain": [
              "array([[ 0.01645621, -0.00589932, -0.01471175, ..., -0.04048269,\n",
              "        -0.04138212,  0.01247839],\n",
              "       [-0.01294935,  0.00139042,  0.01233207, ...,  0.0240727 ,\n",
              "         0.01274442, -0.00268712],\n",
              "       [ 0.03155038,  0.048104  ,  0.02928082, ..., -0.01852942,\n",
              "         0.02591246, -0.04616255],\n",
              "       ...,\n",
              "       [ 0.01388434, -0.03151637,  0.00623218, ...,  0.03824879,\n",
              "        -0.03567512, -0.00586488],\n",
              "       [ 0.01017832,  0.03941515,  0.03742045, ..., -0.01840114,\n",
              "         0.00694617, -0.04235482],\n",
              "       [ 0.01438809,  0.04091888, -0.01207281, ..., -0.00702416,\n",
              "         0.0337652 ,  0.04508159]], dtype=float32)"
            ]
          },
          "metadata": {
            "tags": []
          },
          "execution_count": 11
        }
      ]
    },
    {
      "cell_type": "code",
      "metadata": {
        "id": "bpFbrK5vW2gG",
        "colab_type": "code",
        "colab": {}
      },
      "source": [
        "from sklearn.decomposition import PCA\n",
        "pca = PCA(n_components=2)\n",
        "pca.fit(grad[0])\n",
        "PCA(n_components=2)\n",
        "W_2 = pca.fit_transform(grad[0])"
      ],
      "execution_count": 0,
      "outputs": []
    },
    {
      "cell_type": "code",
      "metadata": {
        "id": "EZHJmdStYG1F",
        "colab_type": "code",
        "colab": {}
      },
      "source": [
        "word_list = []\n",
        "for i in range(len(word2index)):\n",
        "  word_list.append(sorted(word2index.items(), key=lambda x: x[1])[i][0])"
      ],
      "execution_count": 0,
      "outputs": []
    },
    {
      "cell_type": "code",
      "metadata": {
        "id": "kBNmiw4wXMmn",
        "colab_type": "code",
        "colab": {
          "base_uri": "https://localhost:8080/",
          "height": 265
        },
        "outputId": "1ef1370d-1ef3-41b2-979d-68e3ba7bf591"
      },
      "source": [
        "x = W_2[:,0]\n",
        "y = W_2[:,1]\n",
        "n = word_list\n",
        "\n",
        "fig, ax = plt.subplots()\n",
        "ax.scatter(x, y)\n",
        "\n",
        "for i, txt in enumerate(n):\n",
        "    ax.annotate(txt, (x[i], y[i]))"
      ],
      "execution_count": 14,
      "outputs": [
        {
          "output_type": "display_data",
          "data": {
            "image/png": "[encoded data removed]",
            "text/plain": [
              "<Figure size 432x288 with 1 Axes>"
            ]
          },
          "metadata": {
            "tags": []
          }
        }
      ]
    },
    {
      "cell_type": "markdown",
      "metadata": {
        "id": "-3b09yqPQ64d",
        "colab_type": "text"
      },
      "source": [
        "## Skipgram"
      ]
    },
    {
      "cell_type": "code",
      "metadata": {
        "id": "GtK746FqNH_O",
        "colab_type": "code",
        "colab": {}
      },
      "source": [
        "indexed_corpus = tokenizer.texts_to_sequences(text)\n",
        "\n",
        "embedding_dim = 100\n",
        "vocab_size = len(word2index)\n",
        "\n",
        "input_ = keras.layers.Input((1,))\n",
        "\n",
        "embedding_layer = keras.layers.Embedding(vocab_size, embedding_dim, input_length=1)\n",
        "target_embedding = embedding_layer(input_)\n",
        "target_layer = keras.layers.Reshape((1, embedding_dim))(target_embedding)\n",
        "context_layer = keras.layers.Reshape((1, embedding_dim))(target_embedding)\n",
        "\n",
        "target_output = keras.layers.Dense(1, activation='sigmoid')(target_layer)\n",
        "context_output = keras.layers.Dense(1, activation='sigmoid')(context_layer)\n",
        "\n",
        "model = keras.models.Model(inputs=[input_], outputs=[target_output, context_output])\n",
        "#model.summary()\n",
        "model.compile(loss='binary_crossentropy', optimizer='sgd')\n"
      ],
      "execution_count": 0,
      "outputs": []
    },
    {
      "cell_type": "code",
      "metadata": {
        "id": "tDQaYQ6DQsVs",
        "colab_type": "code",
        "colab": {
          "base_uri": "https://localhost:8080/",
          "height": 422
        },
        "outputId": "c4404e94-b7e3-4c05-f594-340da473fabc"
      },
      "source": [
        "keras.utils.plot_model(model, show_shapes=True)"
      ],
      "execution_count": 16,
      "outputs": [
        {
          "output_type": "execute_result",
          "data": {
            "image/png": "[encoded data removed]",
            "text/plain": [
              "<IPython.core.display.Image object>"
            ]
          },
          "metadata": {
            "tags": []
          },
          "execution_count": 16
        }
      ]
    },
    {
      "cell_type": "code",
      "metadata": {
        "id": "PeQLPzh1QsrO",
        "colab_type": "code",
        "colab": {}
      },
      "source": [
        "grad = model.get_weights()"
      ],
      "execution_count": 0,
      "outputs": []
    },
    {
      "cell_type": "code",
      "metadata": {
        "id": "VrYZoxwhQyk-",
        "colab_type": "code",
        "colab": {
          "base_uri": "https://localhost:8080/",
          "height": 34
        },
        "outputId": "4030433e-611f-4ea7-f2a3-ee248787c492"
      },
      "source": [
        "grad[0].shape"
      ],
      "execution_count": 18,
      "outputs": [
        {
          "output_type": "execute_result",
          "data": {
            "text/plain": [
              "(17, 100)"
            ]
          },
          "metadata": {
            "tags": []
          },
          "execution_count": 18
        }
      ]
    },
    {
      "cell_type": "code",
      "metadata": {
        "id": "Dgm1M7k7Qz-d",
        "colab_type": "code",
        "colab": {
          "base_uri": "https://localhost:8080/",
          "height": 238
        },
        "outputId": "e3edb233-d33e-4cc0-a084-2f5afbbf0792"
      },
      "source": [
        "grad[0]"
      ],
      "execution_count": 19,
      "outputs": [
        {
          "output_type": "execute_result",
          "data": {
            "text/plain": [
              "array([[ 0.02413679,  0.01285462, -0.04826153, ..., -0.03322836,\n",
              "         0.01596291,  0.03011217],\n",
              "       [-0.04667386,  0.00679704, -0.02052331, ...,  0.02656053,\n",
              "         0.04200524, -0.00634357],\n",
              "       [-0.00534525, -0.01481671, -0.04388114, ..., -0.00148666,\n",
              "        -0.02894019, -0.02491723],\n",
              "       ...,\n",
              "       [-0.04253198, -0.03049729,  0.0458113 , ..., -0.01426946,\n",
              "        -0.03683824, -0.02743478],\n",
              "       [ 0.0170675 ,  0.03435068, -0.01595122, ..., -0.0286366 ,\n",
              "        -0.03411828, -0.03717596],\n",
              "       [-0.0058865 ,  0.0222169 ,  0.04638782, ..., -0.01716522,\n",
              "        -0.00617989,  0.04208746]], dtype=float32)"
            ]
          },
          "metadata": {
            "tags": []
          },
          "execution_count": 19
        }
      ]
    },
    {
      "cell_type": "code",
      "metadata": {
        "id": "QDqwsqr8Q172",
        "colab_type": "code",
        "colab": {}
      },
      "source": [
        ""
      ],
      "execution_count": 0,
      "outputs": []
    }
  ]
}